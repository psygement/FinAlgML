{
 "cells": [
  {
   "cell_type": "markdown",
   "metadata": {},
   "source": [
    "# 5. Issue Selection"
   ]
  },
  {
   "cell_type": "markdown",
   "metadata": {},
   "source": [
    "* 싸이지먼트 / FinAlgML : 파트 1 - Quantitative Technical Analysis [1]\n",
    "* 김무성"
   ]
  },
  {
   "cell_type": "markdown",
   "metadata": {},
   "source": [
    "# Contents"
   ]
  },
  {
   "cell_type": "markdown",
   "metadata": {},
   "source": [
    "* Market Research\n",
    "* Risk and Profit Potential\n",
    "    - Simulation Outline\n",
    "    - Sidebar - Calculating CAR\n",
    "    - Drawdown as a Function of Holding Period\n",
    "    - Profit Potential\n",
    "    - Risk in Being Short\n",
    "    - What the Prospector Found\n",
    "    - Which Issues are \"Best\"\n",
    "    - Universal Objective Function\n",
    "    - Holding Longer\n",
    "    - Portfolios\n",
    "* Summary\n",
    "* Estmating Profit Potential\n",
    "    - A Monte Carlo Simulation Program\n",
    "* Program Listing"
   ]
  },
  {
   "cell_type": "markdown",
   "metadata": {},
   "source": [
    "<img src=\"figures/cap5.1.png\" width=600 />"
   ]
  },
  {
   "cell_type": "markdown",
   "metadata": {},
   "source": [
    "# Market Research"
   ]
  },
  {
   "cell_type": "markdown",
   "metadata": {},
   "source": [
    "#### The best issues to trade combine three characteristics:"
   ]
  },
  {
   "cell_type": "markdown",
   "metadata": {},
   "source": [
    "* Adequate profit potential - some price variation.\n",
    "* Absence of extreme adverse price changes - not too much price variation.\n",
    "* Existence of detectable signal patterns - not too efficient"
   ]
  },
  {
   "cell_type": "markdown",
   "metadata": {},
   "source": [
    "# Risk and Profit Potential"
   ]
  },
  {
   "cell_type": "markdown",
   "metadata": {},
   "source": [
    "* Simulation Outline\n",
    "* Sidebar - Calculating CAR\n",
    "* Drawdown as a Function of Holding Period\n",
    "* Profit Potential\n",
    "* Risk in Being Short\n",
    "* What the Prospector Found\n",
    "* Which Issues are \"Best\"\n",
    "* Universal Objective Function\n",
    "* Holding Longer\n",
    "* Portfolios"
   ]
  },
  {
   "cell_type": "markdown",
   "metadata": {},
   "source": [
    "#### Risk, safe-f, profit potential"
   ]
  },
  {
   "cell_type": "markdown",
   "metadata": {},
   "source": [
    "* Given a data series and two variables - holding period and system accuracy - we can estimate the risk inherent in the serise. \n",
    "* Given the risk inherent in the series and your personal statement of risk tolerance, we can determine safe-f.\n",
    "* Given safe-f, we can estimate profit potential."
   ]
  },
  {
   "cell_type": "markdown",
   "metadata": {},
   "source": [
    "#### The analysis described here assumes :\n",
    "* You have a trading system that trades a single issue and is either long or flat.\n",
    "* All the rules have been included in the model.\n",
    "* There will be no subjective position changes or early exits.\n",
    "* Equity is marked-to-market at the close of every trading day."
   ]
  },
  {
   "cell_type": "markdown",
   "metadata": {},
   "source": [
    "## Simulation Outline"
   ]
  },
  {
   "cell_type": "markdown",
   "metadata": {},
   "source": [
    "The analysis is done using a Monte Carlo simulator implemented in a Python program."
   ]
  },
  {
   "cell_type": "markdown",
   "metadata": {},
   "source": [
    "#### control varialbes"
   ]
  },
  {
   "cell_type": "markdown",
   "metadata": {},
   "source": [
    "* Your Risk tolerance\n",
    "* The issue being tested.\n",
    "* Any time period longer than the forecast period can be used.\n",
    "* The holding period of each trade in days.\n",
    "* Accuracy of the trading systems.\n",
    "* The number of simulation runs."
   ]
  },
  {
   "cell_type": "markdown",
   "metadata": {},
   "source": [
    "#### Preliminaries"
   ]
  },
  {
   "cell_type": "markdown",
   "metadata": {},
   "source": [
    "#### measurement"
   ]
  },
  {
   "cell_type": "markdown",
   "metadata": {},
   "source": [
    "* Intra-day drawdown\n",
    "    - measured using daily high and low.\n",
    "* Intra-trade drawdown\n",
    "    - measured using mark-to-market daily closing price.\n",
    "* Trade drawdown \n",
    "    - measured from the trade open to trade close\n",
    "* Account equity \n",
    "    - value of shares held plus cash"
   ]
  },
  {
   "cell_type": "markdown",
   "metadata": {},
   "source": [
    "#### Figure 5.2 shows ten equally likely equity curves resulting from trading SPY with a holding period of 5 days, an accuracy of 65%, and a fraction of 1.00."
   ]
  },
  {
   "cell_type": "markdown",
   "metadata": {},
   "source": [
    "<img src=\"figures/cap5.2.png\" width=600 />"
   ]
  },
  {
   "cell_type": "markdown",
   "metadata": {},
   "source": [
    "#### Figure 5.3 shows a table with the metrics for those ten runs."
   ]
  },
  {
   "cell_type": "markdown",
   "metadata": {},
   "source": [
    "* Max IDDD\n",
    "* Max ITDD\n",
    "* Max TRDD\n",
    "* EqAtClose\n",
    "* CAR - compound anual rate of return"
   ]
  },
  {
   "cell_type": "markdown",
   "metadata": {},
   "source": [
    "<img src=\"figures/cap5.3.png\" width=600 />"
   ]
  },
  {
   "cell_type": "markdown",
   "metadata": {},
   "source": [
    "## Sidebar - Calculating CAR"
   ]
  },
  {
   "cell_type": "markdown",
   "metadata": {},
   "source": [
    "* The simulation continues"
   ]
  },
  {
   "cell_type": "markdown",
   "metadata": {},
   "source": [
    "#### Calcuating CAR"
   ]
  },
  {
   "cell_type": "markdown",
   "metadata": {},
   "source": [
    "* TWR\n",
    "    - Terminal wealth relative\n",
    "    - ratio of final equity to initial equity\n",
    "    - TWR is EqAtClose / inital equity\n",
    "* CAR\n",
    "    - Compound annual rate of return\n",
    "* Final equity(TWR), CAR, and number of years(N)\n",
    "    - TWR = (1+CAR)^N\n",
    "    - CAR = exp(ln(TWR)/N)-1\n",
    "* For a two year forecast period, a close approximation of CAR, expressed as percent, is given by :\n",
    "    - CAR = 100.0 * (sqrt(TWR) - 1)"
   ]
  },
  {
   "cell_type": "markdown",
   "metadata": {},
   "source": [
    "### The simulation continues"
   ]
  },
  {
   "cell_type": "markdown",
   "metadata": {},
   "source": [
    "* The risk tolerance requires intra-trade marked-to-market daily drawdown at the 95th percentile to be no greater than 20 percent.\n",
    "* Intra-trade marked-to-market-daily drawdown is the second column - Max ITDD\n",
    "* If results for all 1000 runs were listed and sorted by that column, we want the first 950 to have values less than 0.2000, the final 50 to be greater.\n",
    "* There is no advantage in having the final 50 be less than 0.2000, a situationthat would occur only if the fraction of available equity used for each trade was lower than the maximum safe-f.\n",
    "* Intentionally using a lower fraction dose lower risk, but it lowers profit even more. You do want to coordinate your risk tolerance with the fraction used and take the largest positions that are safe."
   ]
  },
  {
   "cell_type": "markdown",
   "metadata": {},
   "source": [
    "#### Safe-f is found to be 0.646"
   ]
  },
  {
   "cell_type": "markdown",
   "metadata": {},
   "source": [
    "#### Figure 5.4 shows ten equally likely equity curves for the same holding period and accuracy as those show in Figure 5.2, but with a fraction of 0.646 rather than 1.00."
   ]
  },
  {
   "cell_type": "markdown",
   "metadata": {},
   "source": [
    "<img src=\"figures/cap5.4.png\" width=600 />"
   ]
  },
  {
   "cell_type": "markdown",
   "metadata": {},
   "source": [
    "<img src=\"figures/cap5.5.png\" width=600 />"
   ]
  },
  {
   "cell_type": "markdown",
   "metadata": {},
   "source": [
    "## Drawdown as a Function of Holding Period"
   ]
  },
  {
   "cell_type": "markdown",
   "metadata": {},
   "source": [
    "<img src=\"figures/cap5.6.png\" width=600 />"
   ]
  },
  {
   "cell_type": "markdown",
   "metadata": {},
   "source": [
    "## Profit Potential"
   ]
  },
  {
   "cell_type": "markdown",
   "metadata": {},
   "source": [
    "<img src=\"figures/cap5.7.png\" width=600 />"
   ]
  },
  {
   "cell_type": "markdown",
   "metadata": {},
   "source": [
    "<img src=\"figures/cap5.8.png\" width=600 />"
   ]
  },
  {
   "cell_type": "markdown",
   "metadata": {},
   "source": [
    "## Risk in Being Short"
   ]
  },
  {
   "cell_type": "markdown",
   "metadata": {},
   "source": [
    "<img src=\"figures/cap5.9.png\" width=600 />"
   ]
  },
  {
   "cell_type": "markdown",
   "metadata": {},
   "source": [
    "## What the Prospector Found"
   ]
  },
  {
   "cell_type": "markdown",
   "metadata": {},
   "source": [
    "<img src=\"figures/cap5.10.png\" width=600 />"
   ]
  },
  {
   "cell_type": "markdown",
   "metadata": {},
   "source": [
    "<img src=\"figures/cap5.10b.png\" width=600 />"
   ]
  },
  {
   "cell_type": "markdown",
   "metadata": {},
   "source": [
    "<img src=\"figures/cap5.10c.png\" width=600 />"
   ]
  },
  {
   "cell_type": "markdown",
   "metadata": {},
   "source": [
    "<img src=\"figures/cap5.10d.png\" width=600 />"
   ]
  },
  {
   "cell_type": "markdown",
   "metadata": {},
   "source": [
    "<img src=\"figures/cap5.10e.png\" width=600 />"
   ]
  },
  {
   "cell_type": "markdown",
   "metadata": {},
   "source": [
    "## Which Issues are \"Best\""
   ]
  },
  {
   "cell_type": "markdown",
   "metadata": {},
   "source": [
    "## Universal Objective Function"
   ]
  },
  {
   "cell_type": "markdown",
   "metadata": {},
   "source": [
    "## Holding Longer"
   ]
  },
  {
   "cell_type": "markdown",
   "metadata": {},
   "source": [
    "<img src=\"figures/cap5.11.png\" width=600 />"
   ]
  },
  {
   "cell_type": "markdown",
   "metadata": {},
   "source": [
    "<img src=\"figures/cap5.12.png\" width=600 />"
   ]
  },
  {
   "cell_type": "markdown",
   "metadata": {},
   "source": [
    "<img src=\"figures/cap5.13.png\" width=600 />"
   ]
  },
  {
   "cell_type": "markdown",
   "metadata": {},
   "source": [
    "<img src=\"figures/cap5.14.png\" width=600 />"
   ]
  },
  {
   "cell_type": "markdown",
   "metadata": {},
   "source": [
    "## Portfolios"
   ]
  },
  {
   "cell_type": "markdown",
   "metadata": {},
   "source": [
    "# Summary"
   ]
  },
  {
   "cell_type": "markdown",
   "metadata": {},
   "source": [
    "# Estmating Profit Potential"
   ]
  },
  {
   "cell_type": "markdown",
   "metadata": {},
   "source": [
    "* A Monte Carlo Simulation Program"
   ]
  },
  {
   "cell_type": "markdown",
   "metadata": {},
   "source": [
    "## A Monte Carlo Simulation Program"
   ]
  },
  {
   "cell_type": "markdown",
   "metadata": {},
   "source": [
    "# Program Listing"
   ]
  },
  {
   "cell_type": "markdown",
   "metadata": {},
   "source": [
    "### Listing 5.1. "
   ]
  },
  {
   "cell_type": "markdown",
   "metadata": {},
   "source": [
    "Python code for the simulator that computes rist, determines maximum safe position size, and estimates profit potential."
   ]
  },
  {
   "cell_type": "code",
   "execution_count": null,
   "metadata": {
    "collapsed": true
   },
   "outputs": [],
   "source": [
    "\"\"\"\n",
    "ComuteRiskLong.py\n",
    "\n",
    "A Python program that implements the \n",
    "Monte Carlo simulation analysis described\n",
    "in Chapter 5 of the book\n",
    "\"Quantitative Technical Analysis\"\n",
    "written by Dr. Howard Bandy\n",
    "and published by Blue Owl Press, Inc.\n",
    "\n",
    "Copyright @2014 Howard Bandy\n",
    "\n",
    "Autho: Howard Bandy\n",
    "Blue Owl Press, Inc.\n",
    "www.BlueOwlPress.com\n",
    "\"\"\""
   ]
  },
  {
   "cell_type": "code",
   "execution_count": 3,
   "metadata": {
    "collapsed": false
   },
   "outputs": [],
   "source": [
    "%matplotlib inline\n",
    "from datetime import datetime\n",
    "import math\n",
    "import matplotlib.pyplot as plt\n",
    "import numpy as np\n",
    "import pandas as pd\n",
    "from pandas.io.data import DataReader\n",
    "import random\n",
    "from scipy import stats\n",
    "import time"
   ]
  },
  {
   "cell_type": "code",
   "execution_count": 4,
   "metadata": {
    "collapsed": true
   },
   "outputs": [],
   "source": [
    "accurarcy_tolerance = 0.005"
   ]
  },
  {
   "cell_type": "code",
   "execution_count": 5,
   "metadata": {
    "collapsed": true
   },
   "outputs": [],
   "source": [
    "# ------------\n",
    "# User sets parameter values here\n",
    "# Scalars, unless otherwise noted\n",
    "\n",
    "issue = 'spy'\n",
    "data_source = 'yahoo'\n",
    "start_date = datetime(1999, 1, 1)\n",
    "end_date = datetime(2012, 1, 1)"
   ]
  },
  {
   "cell_type": "code",
   "execution_count": 6,
   "metadata": {
    "collapsed": true
   },
   "outputs": [],
   "source": [
    "hold_days = 5\n",
    "system_accuracy = .75\n",
    "DD95_limit = 0.20\n",
    "initial_equity = 100000.0\n",
    "fraction = 1.00\n",
    "forecast_horizon = 504 # trading days\n",
    "number_forecasts = 10 # Number of simulated forecasts"
   ]
  },
  {
   "cell_type": "code",
   "execution_count": 7,
   "metadata": {
    "collapsed": false
   },
   "outputs": [
    {
     "name": "stdout",
     "output_type": "stream",
     "text": [
      "\n",
      "\n",
      "New simulation run \n",
      "  Testing profit potential for Long positions\n",
      "\n",
      "Issue:            spy\n",
      "Dates:            01 Jan 1999\n",
      "   to:            01 Jan 2012\n",
      "Hold Days:        5 \n",
      "System Accuracy:  0.75 \n",
      "DD 95 limit:      0.20 \n",
      "Forecast Horizon: 504 \n",
      "Number Forecasts: 10 \n",
      "Initial Equity: 100000 \n"
     ]
    }
   ],
   "source": [
    "print '\\n\\nNew simulation run '\n",
    "print '  Testing profit potential for Long positions\\n'\n",
    "print 'Issue:            ' + issue\n",
    "print 'Dates:            ' + start_date.strftime('%d %b %Y')\n",
    "print '   to:            ' + end_date.strftime('%d %b %Y')\n",
    "print 'Hold Days:        %i '  %hold_days \n",
    "print 'System Accuracy:  %.2f '  %system_accuracy\n",
    "print 'DD 95 limit:      %.2f '  %DD95_limit\n",
    "print 'Forecast Horizon: %i '  %forecast_horizon\n",
    "print 'Number Forecasts: %i '  %number_forecasts\n",
    "print 'Initial Equity: %i '  %initial_equity"
   ]
  },
  {
   "cell_type": "code",
   "execution_count": 8,
   "metadata": {
    "collapsed": true
   },
   "outputs": [],
   "source": [
    "# --------------------\n",
    "# Variables used for simulation"
   ]
  },
  {
   "cell_type": "code",
   "execution_count": 9,
   "metadata": {
    "collapsed": false
   },
   "outputs": [
    {
     "name": "stdout",
     "output_type": "stream",
     "text": [
      "(3271, 6)\n",
      "                Open        High         Low       Close   Volume  Adj Close\n",
      "Date                                                                        \n",
      "1999-01-04  123.3750  125.218697  121.718697  123.031197  9450400  91.009244\n",
      "1999-01-05  122.9375  124.875000  122.937500  124.437500  8031000  92.049521\n",
      "1999-01-06  125.8125  127.750000  125.750000  127.437500  7737700  94.268696\n",
      "1999-01-07  126.3750  127.218697  125.781197  126.812500  5504900  93.806368\n",
      "1999-01-08  128.1875  128.500000  125.968697  127.750000  6224400  94.499860\n"
     ]
    }
   ],
   "source": [
    "qt = DataReader(issue, data_source, start_date, end_date)\n",
    "print qt.shape\n",
    "print qt.head()"
   ]
  },
  {
   "cell_type": "code",
   "execution_count": 10,
   "metadata": {
    "collapsed": false
   },
   "outputs": [
    {
     "name": "stdout",
     "output_type": "stream",
     "text": [
      "                  Open        High         Low       Close     Volume  \\\n",
      "Date                                                                    \n",
      "2011-12-23  125.669998  126.430000  125.410004  126.389999   92187200   \n",
      "2011-12-27  126.169998  126.820000  126.059998  126.489998   86075700   \n",
      "2011-12-28  126.510002  126.529999  124.730003  124.830002  119107100   \n",
      "2011-12-29  125.239998  126.250000  124.860001  126.120003  123507200   \n",
      "2011-12-30  126.019997  126.330002  125.500000  125.500000   95599000   \n",
      "\n",
      "             Adj Close  \n",
      "Date                    \n",
      "2011-12-23  117.167528  \n",
      "2011-12-27  117.260230  \n",
      "2011-12-28  115.721361  \n",
      "2011-12-29  116.917233  \n",
      "2011-12-30  116.342470  \n"
     ]
    }
   ],
   "source": [
    "print qt.tail()"
   ]
  },
  {
   "cell_type": "code",
   "execution_count": 11,
   "metadata": {
    "collapsed": false
   },
   "outputs": [
    {
     "name": "stdout",
     "output_type": "stream",
     "text": [
      "Number Rows:    3271 \n"
     ]
    }
   ],
   "source": [
    "nrows = qt.shape[0]\n",
    "print 'Number Rows:    %d '  %nrows"
   ]
  },
  {
   "cell_type": "code",
   "execution_count": 12,
   "metadata": {
    "collapsed": true
   },
   "outputs": [],
   "source": [
    "qtC = qt.Close"
   ]
  },
  {
   "cell_type": "code",
   "execution_count": 13,
   "metadata": {
    "collapsed": false
   },
   "outputs": [
    {
     "data": {
      "text/plain": [
       "Date\n",
       "1999-01-04    123.031197\n",
       "1999-01-05    124.437500\n",
       "1999-01-06    127.437500\n",
       "1999-01-07    126.812500\n",
       "1999-01-08    127.750000\n",
       "Name: Close, dtype: float64"
      ]
     },
     "execution_count": 13,
     "metadata": {},
     "output_type": "execute_result"
    }
   ],
   "source": [
    "qtC.head()"
   ]
  },
  {
   "cell_type": "code",
   "execution_count": 14,
   "metadata": {
    "collapsed": false
   },
   "outputs": [
    {
     "data": {
      "text/plain": [
       "Date\n",
       "2011-12-23    126.389999\n",
       "2011-12-27    126.489998\n",
       "2011-12-28    124.830002\n",
       "2011-12-29    126.120003\n",
       "2011-12-30    125.500000\n",
       "Name: Close, dtype: float64"
      ]
     },
     "execution_count": 14,
     "metadata": {},
     "output_type": "execute_result"
    }
   ],
   "source": [
    "qtC.tail()"
   ]
  },
  {
   "cell_type": "code",
   "execution_count": 15,
   "metadata": {
    "collapsed": false
   },
   "outputs": [
    {
     "name": "stdout",
     "output_type": "stream",
     "text": [
      "Number Days:    500 \n",
      "Number Trades:  100 \n"
     ]
    }
   ],
   "source": [
    "number_trades = forecast_horizon / hold_days\n",
    "number_days = number_trades * hold_days\n",
    "print 'Number Days:    %i '  %number_days\n",
    "print 'Number Trades:  %d '  %number_trades"
   ]
  },
  {
   "cell_type": "code",
   "execution_count": 16,
   "metadata": {
    "collapsed": true
   },
   "outputs": [],
   "source": [
    "al = number_days + 1\n",
    "# These arrays are the number of days in the forecast\n",
    "account_balance = np.zeros(al)  # account balance"
   ]
  },
  {
   "cell_type": "code",
   "execution_count": 17,
   "metadata": {
    "collapsed": true
   },
   "outputs": [],
   "source": [
    "pltx = np.zeros(al)\n",
    "plty = np.zeros(al)"
   ]
  },
  {
   "cell_type": "code",
   "execution_count": 18,
   "metadata": {
    "collapsed": true
   },
   "outputs": [],
   "source": [
    "max_IT_DD = np.zeros(al)     # Maximum Intra-Tarde drawdown\n",
    "max_IT_Eq = np.zeros(al)     # Maximum Intra-Tarde equity"
   ]
  },
  {
   "cell_type": "code",
   "execution_count": 19,
   "metadata": {
    "collapsed": true
   },
   "outputs": [],
   "source": [
    "#  Theas arrays are the number of sumuations runs\n",
    "# Max intra-trade drawdown\n",
    "FC_max_IT_DD = np.zeros(number_forecasts)\n",
    "# Trade equity (TWR)\n",
    "FC_tr_eq = np.zeros(number_forecasts)"
   ]
  },
  {
   "cell_type": "code",
   "execution_count": 20,
   "metadata": {
    "collapsed": true
   },
   "outputs": [],
   "source": [
    "# ----------------------\n",
    "#  Set up gainer and loser lists\n",
    "gainer = np.zeros(nrows)\n",
    "loser = np.zeros(nrows)\n",
    "i_gainer = 0\n",
    "i_loser = 0"
   ]
  },
  {
   "cell_type": "code",
   "execution_count": 21,
   "metadata": {
    "collapsed": false
   },
   "outputs": [],
   "source": [
    "for i in range(0, nrows - hold_days) :\n",
    "    if (qtC[i + hold_days] > qtC[i]) :\n",
    "        gainer[i_gainer] = i\n",
    "        i_gainer = i_gainer + 1\n",
    "    else :\n",
    "        loser[i_loser] = i\n",
    "        i_loser = i_loser + 1"
   ]
  },
  {
   "cell_type": "code",
   "execution_count": 22,
   "metadata": {
    "collapsed": true
   },
   "outputs": [],
   "source": [
    "number_gainers = i_gainer\n",
    "number_losers = i_loser"
   ]
  },
  {
   "cell_type": "code",
   "execution_count": 23,
   "metadata": {
    "collapsed": false
   },
   "outputs": [
    {
     "name": "stdout",
     "output_type": "stream",
     "text": [
      "Number Gainers: 1735 \n",
      "Number Losers:  1531 \n"
     ]
    }
   ],
   "source": [
    "print 'Number Gainers: %d '  %number_gainers\n",
    "print 'Number Losers:  %d '  %number_losers"
   ]
  },
  {
   "cell_type": "code",
   "execution_count": 26,
   "metadata": {
    "collapsed": true
   },
   "outputs": [],
   "source": [
    "###################################\n",
    "#   Solve for fraction\n",
    "fraction = 1.0\n",
    "done = False"
   ]
  },
  {
   "cell_type": "code",
   "execution_count": 27,
   "metadata": {
    "collapsed": false
   },
   "outputs": [
    {
     "name": "stdout",
     "output_type": "stream",
     "text": [
      "Using fraction: 1.000 \n",
      "   DD: 0.162  \n",
      "Using fraction: 1.234 \n",
      "   DD: 0.244  \n",
      "Using fraction: 1.011 \n",
      "   DD: 0.222  \n",
      "Using fraction: 0.911 \n",
      "   DD: 0.226  \n",
      "Using fraction: 0.807 \n",
      "   DD: 0.226  \n",
      "Using fraction: 0.716 \n",
      "   DD: 0.118  \n",
      "Using fraction: 1.216 \n",
      "   DD: 0.197  \n"
     ]
    }
   ],
   "source": [
    "while not done :\n",
    "    done = True\n",
    "    print 'Using fraction: %.3f '  %fraction\n",
    "    # -------------------------------\n",
    "    #   Beginning a new forecast run\n",
    "    for i_forecast in range(number_forecasts) :\n",
    "    #  Initialize for trade sequence\n",
    "        i_day = 0    # i_day counts to end of forecasts\n",
    "        #  Daily arrays, so running history can be plotted\n",
    "        # Starting account balance\n",
    "        account_balance[0] = initial_equity\n",
    "        # Maximum intra-trade equity\n",
    "        max_IT_Eq[0] = account_balance[0]\n",
    "        max_IT_DD[0] = 0\n",
    "        \n",
    "        # for each trade\n",
    "        for i_trade in range(0, number_trades) :\n",
    "            #  Select the trade and retrieve its index\n",
    "            #  Into the price array\n",
    "            #  gainer or loser?\n",
    "            #  Uniform for win/loss\n",
    "            gainer_loser_random = np.random.random()\n",
    "            #  pick a trade accordingly\n",
    "            #  for long positions, test is \"<\"\n",
    "            #  for short positions, test is \">\"\n",
    "            if gainer_loser_random < system_accuracy :\n",
    "                #  choose a gaining trade\n",
    "                gainer_index = np.random.random_integers(0, number_gainers)\n",
    "                entry_index = gainer[gainer_index]\n",
    "            else :\n",
    "                #  choose a losing trade\n",
    "                loser_index = np.random.random_integers(0, number_losers)\n",
    "                entry_index = loser[loser_index]\n",
    "                \n",
    "            # Process the trade, day by day\n",
    "            for i_day_in_trade in range(0, hold_days+1) :\n",
    "                if i_day_in_trade==0 :\n",
    "                    #  Things that happen immediately\n",
    "                    #  after the close of the signal day\n",
    "                    #  Initialize for the trade\n",
    "                    buy_price = qtC[entry_index]\n",
    "                    number_shares = account_balance[i_day] * fraction / buy_price\n",
    "                    share_dollars = number_shares * buy_price\n",
    "                    cash = account_balance[i_day] - share_dollars\n",
    "                else :\n",
    "                    #  Things that change during a\n",
    "                    #  day the trade is held\n",
    "                    i_day = i_day + 1\n",
    "                    j = entry_index + i_day_in_trade\n",
    "                    #  Drawdown for the trade\n",
    "                    profit = number_shares * (qtC[j] - buy_price)\n",
    "                    MTM_equity = cash + share_dollars + profit\n",
    "                    IT_DD = (max_IT_Eq[i_day-1] - MTM_equity) / max_IT_Eq[i_day-1]\n",
    "                    max_IT_DD[i_day] = max(max_IT_DD[i_day-1], IT_DD)\n",
    "                    max_IT_Eq[i_day] = max(max_IT_Eq[i_day-1], MTM_equity)\n",
    "                    account_balance[i_day] = MTM_equity\n",
    "                if i_day_in_trade == hold_days :\n",
    "                    #  Exit at the close\n",
    "                    sell_price = qtC[j]\n",
    "                    #  Check for end of forecast\n",
    "                    if i_day >= number_days :\n",
    "                        FC_max_IT_DD[i_forecast] = max_IT_DD[i_day]\n",
    "                        FC_tr_eq[i_forecast] = MTM_equity\n",
    " \n",
    "    #  All the forecasts have been run\n",
    "    #  Find the drawdown at the 95th percentile\n",
    "    DD_95 = stats.scoreatpercentile(FC_max_IT_DD,95)\n",
    "    print '   DD: %.3f  ' % DD_95\n",
    "    if (abs(DD95_limit - DD_95) < accurarcy_tolerance) :\n",
    "        #  Close enough\n",
    "        done = True\n",
    "    else :\n",
    "        #  Adjust fraction and make a new set of forecasts\n",
    "        fraction = fraction * DD95_limit / DD_95\n",
    "        done = False"
   ]
  },
  {
   "cell_type": "code",
   "execution_count": 28,
   "metadata": {
    "collapsed": false
   },
   "outputs": [
    {
     "name": "stdout",
     "output_type": "stream",
     "text": [
      "DD95: 0.197 \n"
     ]
    }
   ],
   "source": [
    "#  Report\n",
    "#IT_DD_25 = stats.scoreatpercentile(FC_max_IT_DD, 25)\n",
    "#IT_DD_50 = stats.scoreatpercentile(FC_max_IT_DD, 50)\n",
    "IT_DD_95 = stats.scoreatpercentile(FC_max_IT_DD, 95)\n",
    "print 'DD95: %.3f ' %IT_DD_95,"
   ]
  },
  {
   "cell_type": "code",
   "execution_count": 30,
   "metadata": {
    "collapsed": false
   },
   "outputs": [
    {
     "data": {
      "text/plain": [
       "49.167765169900868"
      ]
     },
     "execution_count": 30,
     "metadata": {},
     "output_type": "execute_result"
    }
   ],
   "source": [
    "years_in_forecast = forecast_horizon / 252.0\n",
    "\n",
    "TWR_25 = stats.scoreatpercentile(FC_tr_eq,25)\n",
    "CAR_25 = 100*(((TWR_25/initial_equity) ** (1.0/years_in_forecast))-1.0)\n",
    "\n",
    "CAR_25"
   ]
  },
  {
   "cell_type": "code",
   "execution_count": 31,
   "metadata": {
    "collapsed": false
   },
   "outputs": [
    {
     "data": {
      "text/plain": [
       "66.749807427958217"
      ]
     },
     "execution_count": 31,
     "metadata": {},
     "output_type": "execute_result"
    }
   ],
   "source": [
    "TWR_50 = stats.scoreatpercentile(FC_tr_eq,50)\n",
    "CAR_50 = 100*(((TWR_50/initial_equity) ** (1.0/years_in_forecast))-1.0)\n",
    "\n",
    "CAR_50"
   ]
  },
  {
   "cell_type": "code",
   "execution_count": 32,
   "metadata": {
    "collapsed": false
   },
   "outputs": [
    {
     "data": {
      "text/plain": [
       "97.219552063400556"
      ]
     },
     "execution_count": 32,
     "metadata": {},
     "output_type": "execute_result"
    }
   ],
   "source": [
    "TWR_75 = stats.scoreatpercentile(FC_tr_eq,75)\n",
    "CAR_75 = 100*(((TWR_75/initial_equity) ** (1.0/years_in_forecast))-1.0)\n",
    "\n",
    "CAR_75"
   ]
  },
  {
   "cell_type": "code",
   "execution_count": 33,
   "metadata": {
    "collapsed": true
   },
   "outputs": [],
   "source": [
    "#  Plot maximum drawdown\n",
    "for i in range(al) :\n",
    "    pltx[i] = i\n",
    "    plty[i] = max_IT_DD[i]"
   ]
  },
  {
   "cell_type": "code",
   "execution_count": 34,
   "metadata": {
    "collapsed": false
   },
   "outputs": [
    {
     "data": {
      "text/plain": [
       "[<matplotlib.lines.Line2D at 0x108c5a9d0>]"
      ]
     },
     "execution_count": 34,
     "metadata": {},
     "output_type": "execute_result"
    },
    {
     "data": {
      "image/png": "[encoded data removed]",
      "text/plain": [
       "<matplotlib.figure.Figure at 0x108b62bd0>"
      ]
     },
     "metadata": {},
     "output_type": "display_data"
    }
   ],
   "source": [
    "plt.plot(pltx, plty)"
   ]
  },
  {
   "cell_type": "markdown",
   "metadata": {},
   "source": [
    "# 참고자료 "
   ]
  }
 ],
 "metadata": {
  "kernelspec": {
   "display_name": "Python 2",
   "language": "python",
   "name": "python2"
  },
  "language_info": {
   "codemirror_mode": {
    "name": "ipython",
    "version": 2
   },
   "file_extension": ".py",
   "mimetype": "text/x-python",
   "name": "python",
   "nbconvert_exporter": "python",
   "pygments_lexer": "ipython2",
   "version": "2.7.10"
  }
 },
 "nbformat": 4,
 "nbformat_minor": 0
}
